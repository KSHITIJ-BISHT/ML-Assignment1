{
 "cells": [
  {
   "cell_type": "code",
   "execution_count": 32,
   "metadata": {},
   "outputs": [
    {
     "name": "stdout",
     "output_type": "stream",
     "text": [
      "Enter your word: i like you\n",
      "correct sentence\n"
     ]
    }
   ],
   "source": [
    "#Build a program to predict the correct word for wrongly typed word\n",
    "\n",
    "from difflib import get_close_matches \n",
    "import re\n",
    "\n",
    "set_of_words=[]\n",
    "Word_list=[]\n",
    "\n",
    "#Funtion for Autocorrections\n",
    "def closeMatches(defects,patterns, word):\n",
    "\n",
    "    if word not in patterns:\n",
    "    \tdefects=defects+1\n",
    "        \n",
    "        #For finding the nearest matching string the get_close_matches() function computes\n",
    "        #the leveinstein's ratio of all the matching strings and returns all the strings \n",
    "        #in a list in the order of decreasing ratio.\n",
    "    \tset_of_words.append(get_close_matches(word, patterns,1)[0])\n",
    "    \n",
    "    else :\n",
    "    \tdefects=defects+0\n",
    "    \tset_of_words.append(word)\n",
    "    return defects\n",
    "  \n",
    "\n",
    "# Reading from Big.txt File \n",
    "file = open(\"big.txt\")\n",
    "for line in file:\n",
    "\n",
    "\tfor word in re.findall(r'(?!_)\\w+(?!_)', line):\n",
    "\t\tWord_list.append(word)\n",
    "\t\n",
    "Word_list=set(Word_list)\n",
    "file.close()\n",
    "\n",
    "\n",
    "if __name__ == \"__main__\": \n",
    "    \n",
    "    #User inputted string\n",
    "    word =input(\"Enter your word: \")\n",
    "    #For counting the defects in the input string\n",
    "    defects=0\n",
    "    \n",
    "    if word in Word_list:\n",
    "    \tprint(\"correct word\")\n",
    "    else:\n",
    "\n",
    "    \tfor words in word.casefold().split():\n",
    "    \t\tdefects=closeMatches(defects,Word_list, words)\n",
    "    \tif defects>0:\n",
    "    \t\tprint(f'Did you mean \\'{\" \".join(str(x) for x in set_of_words)}\\' instead of \\'{word}\\' ?')\n",
    "    \t\t\n",
    "    \telse:\n",
    "    \t\tprint(\"correct sentence\")\n",
    "    \t\t     "
   ]
  }
 ],
 "metadata": {
  "kernelspec": {
   "display_name": "Python 3",
   "language": "python",
   "name": "python3"
  },
  "language_info": {
   "codemirror_mode": {
    "name": "ipython",
    "version": 3
   },
   "file_extension": ".py",
   "mimetype": "text/x-python",
   "name": "python",
   "nbconvert_exporter": "python",
   "pygments_lexer": "ipython3",
   "version": "3.7.3"
  }
 },
 "nbformat": 4,
 "nbformat_minor": 2
}
